{
 "cells": [
  {
   "cell_type": "code",
   "execution_count": 1,
   "metadata": {},
   "outputs": [],
   "source": [
    "import gym\n",
    "import random\n",
    "import tensorflow as tf\n",
    "from collections import deque\n",
    "\n",
    "from matplotlib import pyplot as plt\n",
    "\n",
    "seed = 0\n",
    "np.random.seed(seed)\n",
    "random.seed(seed)"
   ]
  },
  {
   "cell_type": "markdown",
   "metadata": {},
   "source": [
    "### Helper Function"
   ]
  },
  {
   "cell_type": "code",
   "execution_count": 2,
   "metadata": {},
   "outputs": [],
   "source": [
    "# Imports specifically so we can render outputs in Jupyter.\n",
    "from JSAnimation.IPython_display import display_animation\n",
    "from matplotlib import animation\n",
    "from IPython.display import display\n",
    "\n",
    "\n",
    "def display_frames_as_gif(frames):\n",
    "    patch = plt.imshow(frames[0])\n",
    "    plt.axis('off')\n",
    "    def animate(i):\n",
    "        patch.set_data(frames[i])\n",
    "\n",
    "    anim = animation.FuncAnimation(plt.gcf(), animate, frames = len(frames), interval=5)\n",
    "    display(display_animation(anim, default_mode='loop'))"
   ]
  },
  {
   "cell_type": "markdown",
   "metadata": {},
   "source": [
    "### Deep Q Learning Agent"
   ]
  },
  {
   "cell_type": "code",
   "execution_count": 11,
   "metadata": {},
   "outputs": [],
   "source": [
    "lass DQNAgent:\n",
    "    def __init__(self, obs_dim, n_action, seed=0,\n",
    "                 discount_factor = 0.995, epsilon_decay = 0.999, epsilon_min = 0.01,\n",
    "                 learning_rate = 1e-3, # Step size for Adam\n",
    "                 batch_size = 64, \n",
    "                 memory_size = 2000, hidden_unit_size = 64):\n",
    "        \n",
    "        self.seed = seed \n",
    "        \n",
    "        # Environment Information\n",
    "        self.obs_dim = obs_dim\n",
    "        self.n_action = n_action\n",
    "        self.discount_factor = discount_factor\n",
    "        \n",
    "        # Epsilon Greedy Policy\n",
    "        self.epsilon = 1.0\n",
    "        self.epsilon_decay = epsilon_decay\n",
    "        self.epsilon_min = epsilon_min\n",
    "        \n",
    "        # Network Hyperparameters\n",
    "        self.hidden_unit_size = hidden_unit_size\n",
    "        self.learning_rate = learning_rate\n",
    "        self.batch_size = batch_size\n",
    "        self.train_start = 1000\n",
    "\n",
    "        # Experience Replay\n",
    "        self.memory = deque(maxlen=memory_size)\n",
    "        \n",
    "        # Define Computational Graph in TF\n",
    "        self.g = tf.Graph()\n",
    "        with self.g.as_default():\n",
    "            self.build_placeholders()\n",
    "            self.build_model()\n",
    "            self.build_loss()\n",
    "            self.build_update_operation()\n",
    "            self.init_session() # Initialize all parameters in graph\n",
    "    \n",
    "    def build_placeholders(self): # Build input and output place holder\n",
    "        self.obs_ph = tf.placeholder(tf.float32, (None, self.obs_dim), 'obs') # Input state\n",
    "        self.target_ph = tf.placeholder(tf.float32, (None, self.n_action), 'target') # TD target\n",
    "        self.learning_rate_ph = tf.placeholder(tf.float32, (), 'lr')        \n",
    "    \n",
    "    def build_model(self): # Build networks\n",
    "        hid1_size = self.hidden_unit_size\n",
    "        hid2_size = self.hidden_unit_size\n",
    "        \n",
    "        with tf.variable_scope('q_prediction'): # Prediction Network / Two layered perceptron / Training Parameters\n",
    "            out = tf.layers.dense(self.obs_ph, hid1_size, tf.tanh, # Tangent Hyperbolic Activation\n",
    "                                  kernel_initializer=tf.random_normal_initializer(stddev=0.01,seed=self.seed), name='hidden1')\n",
    "            out = tf.layers.dense(out, hid2_size, tf.tanh, # Tangent Hyperbolic Activation\n",
    "                                  kernel_initializer=tf.random_normal_initializer(stddev=0.01,seed=self.seed), name='hidden2')\n",
    "            self.q_predict = tf.layers.dense(out, self.n_action, # Linear Layer\n",
    "                                  kernel_initializer=tf.random_normal_initializer(stddev=0.01,seed=self.seed), name='q_predict')\n",
    "                        \n",
    "        with tf.variable_scope('q_target'): # Target Network / Two layered perceptron / Old Parameters\n",
    "            out = tf.layers.dense(self.obs_ph, hid1_size, tf.tanh, # Tangent Hyperbolic Activation\n",
    "                                  kernel_initializer=tf.random_normal_initializer(stddev=0.01,seed=self.seed), name='hidden1')\n",
    "            out = tf.layers.dense(out, hid2_size, tf.tanh, # Tangent Hyperbolic Activation\n",
    "                                  kernel_initializer=tf.random_normal_initializer(stddev=0.01,seed=self.seed), name='hidden2')\n",
    "            self.q_predict_old = tf.layers.dense(out, self.n_action, # Linear Layer\n",
    "                                  kernel_initializer=tf.random_normal_initializer(stddev=0.01,seed=self.seed), name='q_predict')\n",
    "        \n",
    "        self.weights = tf.get_collection(tf.GraphKeys.GLOBAL_VARIABLES, scope='q_prediction') # Get Prediction network's Parameters\n",
    "        self.weights_old = tf.get_collection(tf.GraphKeys.GLOBAL_VARIABLES, scope='q_target') # Get Target network's Parameters\n",
    "\n",
    "    def build_loss(self):\n",
    "        # loss는 얼마나 니가 업데이트를 할거냐(이전에 봤던 이동평균)\n",
    "        # for slowly update the target network\n",
    "        self.loss = 0.5*tf.reduce_mean(tf.square(self.target_ph - self.q_predict)) # Squared Error\n",
    "        self.optim = tf.train.AdamOptimizer(learning_rate=self.learning_rate_ph).minimize(self.loss) # AdamOptimizer (Gradi"
   ]
  },
  {
   "cell_type": "code",
   "execution_count": null,
   "metadata": {},
   "outputs": [],
   "source": []
  },
  {
   "cell_type": "code",
   "execution_count": null,
   "metadata": {},
   "outputs": [],
   "source": []
  },
  {
   "cell_type": "code",
   "execution_count": null,
   "metadata": {},
   "outputs": [],
   "source": []
  },
  {
   "cell_type": "code",
   "execution_count": null,
   "metadata": {},
   "outputs": [],
   "source": []
  },
  {
   "cell_type": "code",
   "execution_count": null,
   "metadata": {},
   "outputs": [],
   "source": []
  },
  {
   "cell_type": "code",
   "execution_count": null,
   "metadata": {},
   "outputs": [],
   "source": []
  },
  {
   "cell_type": "code",
   "execution_count": null,
   "metadata": {},
   "outputs": [],
   "source": []
  },
  {
   "cell_type": "code",
   "execution_count": null,
   "metadata": {},
   "outputs": [],
   "source": []
  },
  {
   "cell_type": "code",
   "execution_count": null,
   "metadata": {},
   "outputs": [],
   "source": []
  },
  {
   "cell_type": "code",
   "execution_count": null,
   "metadata": {},
   "outputs": [],
   "source": []
  },
  {
   "cell_type": "code",
   "execution_count": null,
   "metadata": {},
   "outputs": [],
   "source": []
  },
  {
   "cell_type": "code",
   "execution_count": null,
   "metadata": {},
   "outputs": [],
   "source": []
  },
  {
   "cell_type": "code",
   "execution_count": null,
   "metadata": {},
   "outputs": [],
   "source": []
  },
  {
   "cell_type": "code",
   "execution_count": null,
   "metadata": {},
   "outputs": [],
   "source": []
  },
  {
   "cell_type": "code",
   "execution_count": null,
   "metadata": {},
   "outputs": [],
   "source": []
  }
 ],
 "metadata": {
  "kernelspec": {
   "display_name": "Python 3",
   "language": "python",
   "name": "python3"
  },
  "language_info": {
   "codemirror_mode": {
    "name": "ipython",
    "version": 3
   },
   "file_extension": ".py",
   "mimetype": "text/x-python",
   "name": "python",
   "nbconvert_exporter": "python",
   "pygments_lexer": "ipython3",
   "version": "3.6.6"
  }
 },
 "nbformat": 4,
 "nbformat_minor": 2
}
